{
 "cells": [
  {
   "cell_type": "markdown",
   "metadata": {},
   "source": [
    "# 6. Conclusion\n"
   ]
  },
  {
   "cell_type": "markdown",
   "metadata": {},
   "source": [
    "This project aimed to visualize and analyze moving objects at an intersection. We worked with data collected by LIDAR and explored the dataset to gain a general understanding of how objects move at this specific intersection and to gather insights.\n",
    "\n",
    "Here, we would like to point out the main outcomes of our analysis and opportunities for potential further analysis.\n",
    "\n",
    "**Data Quality Assessment**\n",
    "One of the main tasks was to create some metrics for assessing data quality. For this, we used different approaches:\n",
    "\n",
    "1. Detecting moving and stationary objects\n",
    "2. Detecting objects with changing types\n",
    "3. Detecting statistical outliers for the main characteristics\n",
    "4. Creating thresholds for certain parameters\n",
    "   Based on these criteria, we were able to assess the percentage of unreliable data for each 5-minute interval (the interval could be changed).\n",
    "\n",
    "**Counting Objects in Each Direction**\n",
    "\n",
    "For this task, we applied three different approaches:\n",
    "\n",
    "1. Grid-Based Clustering for Detecting Directions (Cars)\n",
    "\n",
    "Based on the location of starting and ending points and their density, we created clusters to identify directions.\n",
    "\n",
    "2. Intersection-Based (Cars and Pedestrians)\n",
    "\n",
    "Used spatial joins with crosslines created in GIS to count intersections and determine directions.\n",
    "\n",
    "3. Statistical Analysis Based on Average Heading (Cars, Pedestrians, and Two-Wheelers)\n",
    "\n",
    "**Possible Further Analysis**\n",
    "\n",
    "Despite the extensive work performed, we understand that further analysis can be undertaken. For example, detecting clustered object trajectories, exploring anomalies, and examining interesting situations could provide additional insights.\n",
    "\n",
    "The working process was challenging but very interesting, so we couldn't stop to calculate new metrics, which sometimes could affect the depth of analysis and how detailed the description of the results\n"
   ]
  }
 ],
 "metadata": {
  "language_info": {
   "name": "python"
  }
 },
 "nbformat": 4,
 "nbformat_minor": 2
}
