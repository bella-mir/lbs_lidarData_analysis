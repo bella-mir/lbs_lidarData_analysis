{
 "cells": [
  {
   "cell_type": "markdown",
   "metadata": {},
   "source": [
    "# 1. Reading and Exploring Data\n"
   ]
  },
  {
   "cell_type": "markdown",
   "metadata": {},
   "source": [
    "## Import Libraries\n"
   ]
  },
  {
   "cell_type": "markdown",
   "metadata": {},
   "source": [
    "We are importing different libraries for the data processing and analysis\n"
   ]
  },
  {
   "cell_type": "code",
   "execution_count": 9,
   "metadata": {},
   "outputs": [],
   "source": [
    "import pandas as pd\n",
    "import geopandas as gpd\n",
    "import datetime\n",
    "import seaborn as sns\n",
    "from shapely.geometry import Point\n",
    "import matplotlib.pyplot as plt"
   ]
  },
  {
   "cell_type": "markdown",
   "metadata": {},
   "source": [
    "## Reading and Exploring Data\n"
   ]
  },
  {
   "cell_type": "markdown",
   "metadata": {},
   "source": [
    "The dataset was provided with the task as a csv file with documentation describing data in different columns. It contains data as output from LiDAR-based Multiple Object Tracking system. In the following steps we will explore the dataset.\n"
   ]
  },
  {
   "cell_type": "markdown",
   "metadata": {},
   "source": [
    "Reading dataset and getting general info about data in different columns, showing the head part of the dataframe:\n"
   ]
  },
  {
   "cell_type": "code",
   "execution_count": 10,
   "metadata": {},
   "outputs": [
    {
     "name": "stdout",
     "output_type": "stream",
     "text": [
      "<class 'pandas.core.frame.DataFrame'>\n",
      "RangeIndex: 2563480 entries, 0 to 2563479\n",
      "Data columns (total 11 columns):\n",
      " #   Column           Dtype  \n",
      "---  ------           -----  \n",
      " 0   object_id        int64  \n",
      " 1   timestamp        int64  \n",
      " 2   heading          float64\n",
      " 3   height           float64\n",
      " 4   width            float64\n",
      " 5   length           float64\n",
      " 6   v                float64\n",
      " 7   tracking_status  object \n",
      " 8   object_type      object \n",
      " 9   lon              float64\n",
      " 10  lat              float64\n",
      "dtypes: float64(7), int64(2), object(2)\n",
      "memory usage: 215.1+ MB\n"
     ]
    },
    {
     "data": {
      "text/html": [
       "<div>\n",
       "<style scoped>\n",
       "    .dataframe tbody tr th:only-of-type {\n",
       "        vertical-align: middle;\n",
       "    }\n",
       "\n",
       "    .dataframe tbody tr th {\n",
       "        vertical-align: top;\n",
       "    }\n",
       "\n",
       "    .dataframe thead th {\n",
       "        text-align: right;\n",
       "    }\n",
       "</style>\n",
       "<table border=\"1\" class=\"dataframe\">\n",
       "  <thead>\n",
       "    <tr style=\"text-align: right;\">\n",
       "      <th></th>\n",
       "      <th>object_id</th>\n",
       "      <th>timestamp</th>\n",
       "      <th>heading</th>\n",
       "      <th>height</th>\n",
       "      <th>width</th>\n",
       "      <th>length</th>\n",
       "      <th>v</th>\n",
       "      <th>tracking_status</th>\n",
       "      <th>object_type</th>\n",
       "      <th>lon</th>\n",
       "      <th>lat</th>\n",
       "    </tr>\n",
       "  </thead>\n",
       "  <tbody>\n",
       "    <tr>\n",
       "      <th>0</th>\n",
       "      <td>152997118</td>\n",
       "      <td>1712062811083</td>\n",
       "      <td>132.072</td>\n",
       "      <td>0.735</td>\n",
       "      <td>1.942</td>\n",
       "      <td>4.387</td>\n",
       "      <td>0.03</td>\n",
       "      <td>TRACKING</td>\n",
       "      <td>CAR</td>\n",
       "      <td>13.064405</td>\n",
       "      <td>47.810136</td>\n",
       "    </tr>\n",
       "    <tr>\n",
       "      <th>1</th>\n",
       "      <td>152997118</td>\n",
       "      <td>1712062811183</td>\n",
       "      <td>132.286</td>\n",
       "      <td>0.731</td>\n",
       "      <td>1.861</td>\n",
       "      <td>4.320</td>\n",
       "      <td>0.04</td>\n",
       "      <td>TRACKING</td>\n",
       "      <td>CAR</td>\n",
       "      <td>13.064405</td>\n",
       "      <td>47.810136</td>\n",
       "    </tr>\n",
       "    <tr>\n",
       "      <th>2</th>\n",
       "      <td>152997118</td>\n",
       "      <td>1712062811283</td>\n",
       "      <td>132.229</td>\n",
       "      <td>0.739</td>\n",
       "      <td>1.955</td>\n",
       "      <td>4.395</td>\n",
       "      <td>0.03</td>\n",
       "      <td>TRACKING</td>\n",
       "      <td>CAR</td>\n",
       "      <td>13.064405</td>\n",
       "      <td>47.810136</td>\n",
       "    </tr>\n",
       "    <tr>\n",
       "      <th>3</th>\n",
       "      <td>152997118</td>\n",
       "      <td>1712062811386</td>\n",
       "      <td>131.980</td>\n",
       "      <td>0.729</td>\n",
       "      <td>1.942</td>\n",
       "      <td>4.367</td>\n",
       "      <td>0.04</td>\n",
       "      <td>TRACKING</td>\n",
       "      <td>CAR</td>\n",
       "      <td>13.064405</td>\n",
       "      <td>47.810135</td>\n",
       "    </tr>\n",
       "    <tr>\n",
       "      <th>4</th>\n",
       "      <td>152997118</td>\n",
       "      <td>1712062811485</td>\n",
       "      <td>132.020</td>\n",
       "      <td>0.737</td>\n",
       "      <td>1.875</td>\n",
       "      <td>4.328</td>\n",
       "      <td>0.02</td>\n",
       "      <td>TRACKING</td>\n",
       "      <td>CAR</td>\n",
       "      <td>13.064405</td>\n",
       "      <td>47.810136</td>\n",
       "    </tr>\n",
       "  </tbody>\n",
       "</table>\n",
       "</div>"
      ],
      "text/plain": [
       "   object_id      timestamp  heading  height  width  length     v  \\\n",
       "0  152997118  1712062811083  132.072   0.735  1.942   4.387  0.03   \n",
       "1  152997118  1712062811183  132.286   0.731  1.861   4.320  0.04   \n",
       "2  152997118  1712062811283  132.229   0.739  1.955   4.395  0.03   \n",
       "3  152997118  1712062811386  131.980   0.729  1.942   4.367  0.04   \n",
       "4  152997118  1712062811485  132.020   0.737  1.875   4.328  0.02   \n",
       "\n",
       "  tracking_status object_type        lon        lat  \n",
       "0        TRACKING         CAR  13.064405  47.810136  \n",
       "1        TRACKING         CAR  13.064405  47.810136  \n",
       "2        TRACKING         CAR  13.064405  47.810136  \n",
       "3        TRACKING         CAR  13.064405  47.810135  \n",
       "4        TRACKING         CAR  13.064405  47.810136  "
      ]
     },
     "execution_count": 10,
     "metadata": {},
     "output_type": "execute_result"
    }
   ],
   "source": [
    "data = pd.read_csv('data/full_intersection_15.csv', sep=\";\")\n",
    "data.info()\n",
    "data.head()"
   ]
  },
  {
   "cell_type": "markdown",
   "metadata": {},
   "source": [
    "The data has 2563480 entires (trajectory points) with different characteristics such as object_id, timestamp (in ms), longitude and latitude, heading, height, width, length of the vehicle, velocity, tracking status and object_type\n"
   ]
  },
  {
   "cell_type": "markdown",
   "metadata": {},
   "source": [
    "## Exploring the data\n"
   ]
  },
  {
   "cell_type": "markdown",
   "metadata": {},
   "source": [
    "### Area of Research\n"
   ]
  },
  {
   "cell_type": "markdown",
   "metadata": {},
   "source": [
    "The data was collected in **Salzburg, Austria** at the intersection of Sterneckstraße, Linzer Bunderrtraße, Ignaz-Härtl-Straße and Fürbergstraße\n"
   ]
  },
  {
   "cell_type": "code",
   "execution_count": 11,
   "metadata": {},
   "outputs": [
    {
     "data": {
      "text/html": [
       "<div style=\"width:100%;\"><div style=\"position:relative;width:100%;height:0;padding-bottom:60%;\"><span style=\"color:#565656\">Make this Notebook Trusted to load map: File -> Trust Notebook</span><iframe srcdoc=\"&lt;!DOCTYPE html&gt;\n",
       "&lt;html&gt;\n",
       "&lt;head&gt;\n",
       "    \n",
       "    &lt;meta http-equiv=&quot;content-type&quot; content=&quot;text/html; charset=UTF-8&quot; /&gt;\n",
       "    \n",
       "        &lt;script&gt;\n",
       "            L_NO_TOUCH = false;\n",
       "            L_DISABLE_3D = false;\n",
       "        &lt;/script&gt;\n",
       "    \n",
       "    &lt;style&gt;html, body {width: 100%;height: 100%;margin: 0;padding: 0;}&lt;/style&gt;\n",
       "    &lt;style&gt;#map {position:absolute;top:0;bottom:0;right:0;left:0;}&lt;/style&gt;\n",
       "    &lt;script src=&quot;https://cdn.jsdelivr.net/npm/leaflet@1.9.3/dist/leaflet.js&quot;&gt;&lt;/script&gt;\n",
       "    &lt;script src=&quot;https://code.jquery.com/jquery-1.12.4.min.js&quot;&gt;&lt;/script&gt;\n",
       "    &lt;script src=&quot;https://cdn.jsdelivr.net/npm/bootstrap@5.2.2/dist/js/bootstrap.bundle.min.js&quot;&gt;&lt;/script&gt;\n",
       "    &lt;script src=&quot;https://cdnjs.cloudflare.com/ajax/libs/Leaflet.awesome-markers/2.0.2/leaflet.awesome-markers.js&quot;&gt;&lt;/script&gt;\n",
       "    &lt;link rel=&quot;stylesheet&quot; href=&quot;https://cdn.jsdelivr.net/npm/leaflet@1.9.3/dist/leaflet.css&quot;/&gt;\n",
       "    &lt;link rel=&quot;stylesheet&quot; href=&quot;https://cdn.jsdelivr.net/npm/bootstrap@5.2.2/dist/css/bootstrap.min.css&quot;/&gt;\n",
       "    &lt;link rel=&quot;stylesheet&quot; href=&quot;https://netdna.bootstrapcdn.com/bootstrap/3.0.0/css/bootstrap.min.css&quot;/&gt;\n",
       "    &lt;link rel=&quot;stylesheet&quot; href=&quot;https://cdn.jsdelivr.net/npm/@fortawesome/fontawesome-free@6.2.0/css/all.min.css&quot;/&gt;\n",
       "    &lt;link rel=&quot;stylesheet&quot; href=&quot;https://cdnjs.cloudflare.com/ajax/libs/Leaflet.awesome-markers/2.0.2/leaflet.awesome-markers.css&quot;/&gt;\n",
       "    &lt;link rel=&quot;stylesheet&quot; href=&quot;https://cdn.jsdelivr.net/gh/python-visualization/folium/folium/templates/leaflet.awesome.rotate.min.css&quot;/&gt;\n",
       "    \n",
       "            &lt;meta name=&quot;viewport&quot; content=&quot;width=device-width,\n",
       "                initial-scale=1.0, maximum-scale=1.0, user-scalable=no&quot; /&gt;\n",
       "            &lt;style&gt;\n",
       "                #map_3b316d84b44fd851f4ee8049166332ab {\n",
       "                    position: relative;\n",
       "                    width: 100.0%;\n",
       "                    height: 100.0%;\n",
       "                    left: 0.0%;\n",
       "                    top: 0.0%;\n",
       "                }\n",
       "                .leaflet-container { font-size: 1rem; }\n",
       "            &lt;/style&gt;\n",
       "        \n",
       "    \n",
       "                    &lt;style&gt;\n",
       "                        .foliumtooltip {\n",
       "                            \n",
       "                        }\n",
       "                       .foliumtooltip table{\n",
       "                            margin: auto;\n",
       "                        }\n",
       "                        .foliumtooltip tr{\n",
       "                            text-align: left;\n",
       "                        }\n",
       "                        .foliumtooltip th{\n",
       "                            padding: 2px; padding-right: 8px;\n",
       "                        }\n",
       "                    &lt;/style&gt;\n",
       "            \n",
       "&lt;/head&gt;\n",
       "&lt;body&gt;\n",
       "    \n",
       "    \n",
       "            &lt;div class=&quot;folium-map&quot; id=&quot;map_3b316d84b44fd851f4ee8049166332ab&quot; &gt;&lt;/div&gt;\n",
       "        \n",
       "&lt;/body&gt;\n",
       "&lt;script&gt;\n",
       "    \n",
       "    \n",
       "            var map_3b316d84b44fd851f4ee8049166332ab = L.map(\n",
       "                &quot;map_3b316d84b44fd851f4ee8049166332ab&quot;,\n",
       "                {\n",
       "                    center: [47.81013599968148, 13.06440500325907],\n",
       "                    crs: L.CRS.EPSG3857,\n",
       "                    zoom: 10,\n",
       "                    zoomControl: true,\n",
       "                    preferCanvas: false,\n",
       "                }\n",
       "            );\n",
       "            L.control.scale().addTo(map_3b316d84b44fd851f4ee8049166332ab);\n",
       "\n",
       "            \n",
       "\n",
       "        \n",
       "    \n",
       "            var tile_layer_fcae4bfe62e3b42f3efc59cd03e42c8e = L.tileLayer(\n",
       "                &quot;https://server.arcgisonline.com/ArcGIS/rest/services/World_Imagery/MapServer/tile/{z}/{y}/{x}&quot;,\n",
       "                {&quot;attribution&quot;: &quot;Tiles \\u0026copy; Esri \\u0026mdash; Source: Esri, i-cubed, USDA, USGS, AEX, GeoEye, Getmapping, Aerogrid, IGN, IGP, UPR-EGP, and the GIS User Community&quot;, &quot;detectRetina&quot;: false, &quot;maxNativeZoom&quot;: 18, &quot;maxZoom&quot;: 18, &quot;minZoom&quot;: 0, &quot;noWrap&quot;: false, &quot;opacity&quot;: 1, &quot;subdomains&quot;: &quot;abc&quot;, &quot;tms&quot;: false}\n",
       "            ).addTo(map_3b316d84b44fd851f4ee8049166332ab);\n",
       "        \n",
       "    \n",
       "            map_3b316d84b44fd851f4ee8049166332ab.fitBounds(\n",
       "                [[47.80833753058255, 13.061735189730241], [47.8119344687804, 13.0670748167879]],\n",
       "                {}\n",
       "            );\n",
       "        \n",
       "    \n",
       "        function geo_json_2716ae0bde29f3dbcf07a672b3e2a26d_styler(feature) {\n",
       "            switch(feature.id) {\n",
       "                default:\n",
       "                    return {&quot;fillOpacity&quot;: 0.5, &quot;weight&quot;: 2};\n",
       "            }\n",
       "        }\n",
       "        function geo_json_2716ae0bde29f3dbcf07a672b3e2a26d_highlighter(feature) {\n",
       "            switch(feature.id) {\n",
       "                default:\n",
       "                    return {&quot;fillOpacity&quot;: 0.75};\n",
       "            }\n",
       "        }\n",
       "        function geo_json_2716ae0bde29f3dbcf07a672b3e2a26d_pointToLayer(feature, latlng) {\n",
       "            var opts = {&quot;bubblingMouseEvents&quot;: true, &quot;color&quot;: &quot;#3388ff&quot;, &quot;dashArray&quot;: null, &quot;dashOffset&quot;: null, &quot;fill&quot;: true, &quot;fillColor&quot;: &quot;#3388ff&quot;, &quot;fillOpacity&quot;: 0.2, &quot;fillRule&quot;: &quot;evenodd&quot;, &quot;lineCap&quot;: &quot;round&quot;, &quot;lineJoin&quot;: &quot;round&quot;, &quot;opacity&quot;: 1.0, &quot;radius&quot;: 2, &quot;stroke&quot;: true, &quot;weight&quot;: 3};\n",
       "            \n",
       "            let style = geo_json_2716ae0bde29f3dbcf07a672b3e2a26d_styler(feature)\n",
       "            Object.assign(opts, style)\n",
       "            \n",
       "            return new L.CircleMarker(latlng, opts)\n",
       "        }\n",
       "\n",
       "        function geo_json_2716ae0bde29f3dbcf07a672b3e2a26d_onEachFeature(feature, layer) {\n",
       "            layer.on({\n",
       "                mouseout: function(e) {\n",
       "                    if(typeof e.target.setStyle === &quot;function&quot;){\n",
       "                        geo_json_2716ae0bde29f3dbcf07a672b3e2a26d.resetStyle(e.target);\n",
       "                    }\n",
       "                },\n",
       "                mouseover: function(e) {\n",
       "                    if(typeof e.target.setStyle === &quot;function&quot;){\n",
       "                        const highlightStyle = geo_json_2716ae0bde29f3dbcf07a672b3e2a26d_highlighter(e.target.feature)\n",
       "                        e.target.setStyle(highlightStyle);\n",
       "                    }\n",
       "                },\n",
       "            });\n",
       "        };\n",
       "        var geo_json_2716ae0bde29f3dbcf07a672b3e2a26d = L.geoJson(null, {\n",
       "                onEachFeature: geo_json_2716ae0bde29f3dbcf07a672b3e2a26d_onEachFeature,\n",
       "            \n",
       "                style: geo_json_2716ae0bde29f3dbcf07a672b3e2a26d_styler,\n",
       "                pointToLayer: geo_json_2716ae0bde29f3dbcf07a672b3e2a26d_pointToLayer\n",
       "        });\n",
       "\n",
       "        function geo_json_2716ae0bde29f3dbcf07a672b3e2a26d_add (data) {\n",
       "            geo_json_2716ae0bde29f3dbcf07a672b3e2a26d\n",
       "                .addData(data)\n",
       "                .addTo(map_3b316d84b44fd851f4ee8049166332ab);\n",
       "        }\n",
       "            geo_json_2716ae0bde29f3dbcf07a672b3e2a26d_add({&quot;bbox&quot;: [13.061735189730241, 47.80833753058255, 13.0670748167879, 47.8119344687804], &quot;features&quot;: [{&quot;bbox&quot;: [13.061735189730241, 47.80833753058255, 13.0670748167879, 47.8119344687804], &quot;geometry&quot;: {&quot;coordinates&quot;: [[[13.0670748167879, 47.8101810023036], [13.067068504468779, 47.810004504677735], [13.067036541312305, 47.80982927371439], [13.066979235395179, 47.809656996966], [13.066897138842565, 47.809489333517995], [13.066791042501693, 47.80932789801216], [13.066661968317385, 47.80917424509868], [13.066511159483301, 47.809029854466466], [13.066340068463978, 47.80889611659552], [13.066150343003207, 47.80877431936924], [13.065943810253707, 47.80866563567439], [13.06572245918091, 47.80857111210914], [13.065488421410357, 47.808491658906874], [13.065243950703072, 47.80842804117329], [13.064991401256393, 47.80838087152083], [13.064733205039039, 47.80835060417113], [13.064471848378398, 47.80833753058255], [13.064209848025177, 47.80834177664444], [13.06394972692559, 47.808363301465484], [13.063693989934011, 47.808401897767446], [13.063445099699619, 47.80845719388067], [13.063205452958872, 47.808528657322164], [13.062977357461808, 47.808615599921886], [13.062763009754008, 47.80871718444777], [13.062564474028017, 47.80883243266593], [13.062383662247607, 47.80896023475852], [13.062222315736198, 47.80909936000854], [13.062081988406705, 47.80924846864909], [13.061964031794274, 47.80940612476263], [13.061869582036183, 47.80957081010668], [13.061799548924432, 47.80974093873252], [13.061754607136674, 47.80991487225635], [13.061735189730241, 47.81009093563607], [13.061741483962201, 47.81026743330154], [13.061773429476107, 47.81044266548319], [13.06183071887325, 47.81061494458177], [13.061912800663318, 47.810782611421544], [13.0620188845664, 47.81094405123039], [13.062147949115651, 47.81109770919273], [13.062298751487678, 47.81124210542566], [13.062469839466283, 47.811375849233904], [13.062659565424521, 47.81149765250596], [13.062866102190561, 47.81160634212268], [13.063087460644617, 47.81170087125834], [13.063321508877488, 47.81178032946549], [13.063565992726089, 47.811843951446065], [13.063818557488071, 47.81189112442445], [13.064076770606155, 47.81192139405118], [13.064338145103468, 47.8119344687804], [13.064600163543847, 47.81193022267893], [13.064860302286002, 47.81190869663956], [13.065116055797565, 47.81187009798741], [13.065364960794502, 47.811814798482416], [13.065604619973039, 47.811743330737926], [13.065832725105164, 47.811656383089336], [13.066047079275018, 47.81155479296274], [13.066245618041728, 47.81143953880725], [13.066426429324672, 47.811311730668905], [13.06658777181954, 47.81117259949701], [13.066728091767773, 47.81102348528605], [13.066846037917887, 47.810865824167635], [13.066940474534661, 47.8107011345766], [13.06701049233111, 47.810531002624835], [13.067055417218137, 47.81035706682396], [13.0670748167879, 47.8101810023036]]], &quot;type&quot;: &quot;Polygon&quot;}, &quot;id&quot;: &quot;0&quot;, &quot;properties&quot;: {}, &quot;type&quot;: &quot;Feature&quot;}], &quot;type&quot;: &quot;FeatureCollection&quot;});\n",
       "\n",
       "        \n",
       "    \n",
       "    geo_json_2716ae0bde29f3dbcf07a672b3e2a26d.bindTooltip(\n",
       "    function(layer){\n",
       "    let div = L.DomUtil.create(&#x27;div&#x27;);\n",
       "    \n",
       "    return div\n",
       "    }\n",
       "    ,{&quot;className&quot;: &quot;foliumtooltip&quot;, &quot;sticky&quot;: true});\n",
       "                     \n",
       "&lt;/script&gt;\n",
       "&lt;/html&gt;\" style=\"position:absolute;width:100%;height:100%;left:0;top:0;border:none !important;\" allowfullscreen webkitallowfullscreen mozallowfullscreen></iframe></div></div>"
      ],
      "text/plain": [
       "<folium.folium.Map at 0x107ecba90>"
      ]
     },
     "execution_count": 11,
     "metadata": {},
     "output_type": "execute_result"
    }
   ],
   "source": [
    "buffer = gpd.GeoSeries([Point(13.064405, 47.810136)], crs=\"EPSG:4326\").to_crs(epsg=32633).buffer(200)\n",
    "buffer_gdf = gpd.GeoDataFrame(geometry=buffer, crs =32633 )\n",
    "buffer_gdf.explore(tiles='Esri.WorldImagery')"
   ]
  },
  {
   "cell_type": "markdown",
   "metadata": {},
   "source": [
    "### Time\n"
   ]
  },
  {
   "cell_type": "code",
   "execution_count": 12,
   "metadata": {},
   "outputs": [
    {
     "name": "stdout",
     "output_type": "stream",
     "text": [
      "It was collected from: 2024-04-02 16:00:00, To: 2024-04-02 16:59:59\n"
     ]
    }
   ],
   "source": [
    "minData = datetime.datetime.fromtimestamp(int(min(data['timestamp'])/1000))\n",
    "maxData = datetime.datetime.fromtimestamp(int(max(data['timestamp'])/1000))\n",
    "print(\"It was collected from: %s, To: %s\" % (minData, maxData))"
   ]
  },
  {
   "cell_type": "markdown",
   "metadata": {},
   "source": [
    "### Total observations\n"
   ]
  },
  {
   "cell_type": "code",
   "execution_count": 13,
   "metadata": {},
   "outputs": [
    {
     "name": "stdout",
     "output_type": "stream",
     "text": [
      "Total observations in a raw dataset: 28198280\n",
      "Total unique objects: 34580\n"
     ]
    }
   ],
   "source": [
    "print(\"Total observations in a raw dataset: %i\" % (data.size))\n",
    "print(\"Total unique objects: %i\" % (data['object_id'].nunique()))"
   ]
  },
  {
   "cell_type": "markdown",
   "metadata": {},
   "source": [
    "### Tracking Status\n"
   ]
  },
  {
   "cell_type": "markdown",
   "metadata": {},
   "source": [
    "On of the main points characteristics is tracking status. Let's see the structure for points based on this column:\n"
   ]
  },
  {
   "cell_type": "code",
   "execution_count": 14,
   "metadata": {},
   "outputs": [
    {
     "data": {
      "image/png": "[encoded data removed]",
      "text/plain": [
       "<Figure size 500x500 with 1 Axes>"
      ]
     },
     "metadata": {},
     "output_type": "display_data"
    }
   ],
   "source": [
    "data_by_status = data.groupby(\"tracking_status\").size()\n",
    "plt.figure(figsize=(5,5))\n",
    "data_by_status.plot.pie(autopct=\"%.2f\", colors=sns.color_palette(\"Set2\"))\n",
    "plt.title('Distribution by Tracking Status')\n",
    "plt.show()"
   ]
  },
  {
   "cell_type": "markdown",
   "metadata": {},
   "source": [
    "More than 82% of all points have \"TRACKING\" status which shows \"stable tracking\". Other categories are \"INVALIDATING\", \"DRIFTING\" and \"VALIDATING\" are not considered as 'stable tracking' and we will filter this data and won't consider in the following analysis\n"
   ]
  },
  {
   "cell_type": "markdown",
   "metadata": {},
   "source": [
    "### Filterting Objects Based on Tracking Status and Calculating New Number of Observations\n"
   ]
  },
  {
   "cell_type": "code",
   "execution_count": 15,
   "metadata": {},
   "outputs": [],
   "source": [
    "data_cleaned = data[data['tracking_status']=='TRACKING']"
   ]
  },
  {
   "cell_type": "code",
   "execution_count": 16,
   "metadata": {},
   "outputs": [
    {
     "name": "stdout",
     "output_type": "stream",
     "text": [
      "Observations Total (cleaned data): 23349700. Share of raw: 82 percent\n",
      "Total unique objects (cleaned data): 11025. Share of raw: 31 percent\n"
     ]
    }
   ],
   "source": [
    "print(\"Observations Total (cleaned data): %i. Share of raw: %i percent\" % (data_cleaned.size, (data_cleaned.size/data.size)*100))\n",
    "print(\"Total unique objects (cleaned data): %i. Share of raw: %i percent\" % (data_cleaned['object_id'].nunique(), (data_cleaned['object_id'].nunique()/data['object_id'].nunique())*100))"
   ]
  },
  {
   "cell_type": "markdown",
   "metadata": {},
   "source": [
    "### Objects Types\n"
   ]
  },
  {
   "cell_type": "markdown",
   "metadata": {},
   "source": [
    "The data was collected for different object types: cars, two-wheelers, and pedestrians. Let's explore the share of each object type in the data.\n"
   ]
  },
  {
   "cell_type": "code",
   "execution_count": 17,
   "metadata": {},
   "outputs": [
    {
     "data": {
      "image/png": "[encoded data removed]",
      "text/plain": [
       "<Figure size 500x500 with 1 Axes>"
      ]
     },
     "metadata": {},
     "output_type": "display_data"
    }
   ],
   "source": [
    "data_by_object = data_cleaned.groupby(\"object_type\").size()\n",
    "\n",
    "plt.figure(figsize=(5,5))\n",
    "data_by_object.plot.pie(autopct=\"%.2f\", colors=sns.color_palette(\"Set2\"))\n",
    "\n",
    "# Set title and show plot\n",
    "plt.title('Distribution by Object Type')\n",
    "plt.show()"
   ]
  },
  {
   "cell_type": "markdown",
   "metadata": {},
   "source": [
    "More than 58% are cars, around 21% are pedestrians, and 4% are two-wheelers. Additionally, 15.78% are classified as \"MISC,\" which means that the objects are not considered part of any of the three main classes. We will filter out these objects and, in the following analysis, consider only the three main types.\n"
   ]
  },
  {
   "cell_type": "markdown",
   "metadata": {},
   "source": [
    "### Filterting Objects Based on Object Type and Calculating New Number of Observations\n"
   ]
  },
  {
   "cell_type": "code",
   "execution_count": 18,
   "metadata": {},
   "outputs": [],
   "source": [
    "data_cleaned = data_cleaned[data_cleaned['object_type'] != 'MISC']"
   ]
  },
  {
   "cell_type": "markdown",
   "metadata": {},
   "source": [
    "### Share of all data left after the first filters applied\n"
   ]
  },
  {
   "cell_type": "code",
   "execution_count": 19,
   "metadata": {},
   "outputs": [
    {
     "name": "stdout",
     "output_type": "stream",
     "text": [
      "Observations Total (cleaned data): 19664513. Share of raw: 69 percent\n",
      "Total unique objects (cleaned data): 6500. Share of raw: 18 percent\n"
     ]
    }
   ],
   "source": [
    "print(\"Observations Total (cleaned data): %i. Share of raw: %i percent\" % (data_cleaned.size, (data_cleaned.size/data.size)*100))\n",
    "print(\"Total unique objects (cleaned data): %i. Share of raw: %i percent\" % (data_cleaned['object_id'].nunique(), (data_cleaned['object_id'].nunique()/data['object_id'].nunique())*100))"
   ]
  },
  {
   "cell_type": "markdown",
   "metadata": {},
   "source": [
    "After filtering out irrelevant data based on \"Tracking Status\" and \"Object Type,\" we have prepared the data for further analysis. Approximately 70% of all points and only 18% of unique objects remain. This indicates that the filtered objects had significantly fewer points on average, supporting the idea that the filtered data was indeed irrelevant.\n"
   ]
  },
  {
   "cell_type": "markdown",
   "metadata": {},
   "source": [
    "### Saving Final Result\n"
   ]
  },
  {
   "cell_type": "code",
   "execution_count": 21,
   "metadata": {},
   "outputs": [],
   "source": [
    "#data_cleaned.to_csv('data/1_data_cleaned.csv')"
   ]
  }
 ],
 "metadata": {
  "kernelspec": {
   "display_name": "Python 3",
   "language": "python",
   "name": "python3"
  },
  "language_info": {
   "codemirror_mode": {
    "name": "ipython",
    "version": 3
   },
   "file_extension": ".py",
   "mimetype": "text/x-python",
   "name": "python",
   "nbconvert_exporter": "python",
   "pygments_lexer": "ipython3",
   "version": "3.10.6"
  }
 },
 "nbformat": 4,
 "nbformat_minor": 2
}
